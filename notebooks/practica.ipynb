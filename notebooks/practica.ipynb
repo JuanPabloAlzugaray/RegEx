{
 "cells": [
  {
   "cell_type": "code",
   "execution_count": 3,
   "id": "704d8fcb-b43c-4961-99de-f40eb330c676",
   "metadata": {},
   "outputs": [
    {
     "name": "stdout",
     "output_type": "stream",
     "text": [
      "38549\n"
     ]
    }
   ],
   "source": [
    "import re\n",
    "\n",
    "# Abre el archivo mboox.txt para lectura\n",
    "with open(r\"mbox.txt\", \"r\") as archivo:\n",
    "    contenido = archivo.read()\n",
    "\n",
    "# Utiliza una expresión regular para encontrar todos los números de revisión\n",
    "numeros_revision = re.findall(r'New Revision:\\s*(\\d+)', contenido)\n",
    "\n",
    "# Convierte los números encontrados a enteros y calcula el promedio\n",
    "numeros_enteros = [int(numero) for numero in numeros_revision]\n",
    "promedio = sum(numeros_enteros) / len(numeros_enteros)\n",
    "\n",
    "# Imprime el promedio como número entero\n",
    "print(int(promedio))\n"
   ]
  },
  {
   "cell_type": "code",
   "execution_count": 7,
   "id": "08b19cb9-9f2c-4f44-a892-4074287b2074",
   "metadata": {},
   "outputs": [
    {
     "name": "stdout",
     "output_type": "stream",
     "text": [
      "39756\n"
     ]
    }
   ],
   "source": [
    "import re\n",
    "\n",
    "# Abre el archivo mbox.txt para lectura\n",
    "with open(r\"mbox-short.txt\", \"r\") as archivo:\n",
    "    contenido = archivo.read()\n",
    "\n",
    "# Utiliza una expresión regular para encontrar todos los números de revisión\n",
    "numeros_revision = re.findall(r'New Revision:\\s*(\\d+)', contenido)\n",
    "\n",
    "# Convierte los números encontrados a enteros y calcula el promedio\n",
    "numeros_enteros = [int(numero) for numero in numeros_revision]\n",
    "promedio = sum(numeros_enteros) / len(numeros_enteros)\n",
    "\n",
    "# Imprime el promedio como número entero\n",
    "print(int(promedio))\n"
   ]
  },
  {
   "cell_type": "code",
   "execution_count": null,
   "id": "aa677385-1b36-4612-b741-715647b7ed17",
   "metadata": {},
   "outputs": [],
   "source": []
  }
 ],
 "metadata": {
  "kernelspec": {
   "display_name": "Python 3 (ipykernel)",
   "language": "python",
   "name": "python3"
  },
  "language_info": {
   "codemirror_mode": {
    "name": "ipython",
    "version": 3
   },
   "file_extension": ".py",
   "mimetype": "text/x-python",
   "name": "python",
   "nbconvert_exporter": "python",
   "pygments_lexer": "ipython3",
   "version": "3.11.4"
  }
 },
 "nbformat": 4,
 "nbformat_minor": 5
}
