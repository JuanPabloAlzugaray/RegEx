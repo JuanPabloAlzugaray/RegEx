import re

# Abre el archivo mbox.txt para lectura
with open(r"C:\Users\jpalzugaray\Downloads\mbox.txt", "r") as archivo:
    contenido = archivo.read()

# Utiliza una expresión regular para encontrar todos los números de revisión
numeros_revision = re.findall(r'New Revision:\s*(\d+)', contenido)

# Convierte los números encontrados a enteros y calcula el promedio
numeros_enteros = [int(numero) for numero in numeros_revision]
promedio = sum(numeros_enteros) / len(numeros_enteros)

# Imprime el promedio como número entero
print(int(promedio))
